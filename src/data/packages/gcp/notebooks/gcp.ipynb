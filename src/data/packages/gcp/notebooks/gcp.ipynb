{
 "cells": [
  {
   "cell_type": "markdown",
   "metadata": {},
   "source": [
    "## Create Kubernetes Cluster on the Google Cloud Platform (GCP)\n",
    "\n",
    "This notebook can be used to launch a Kubernetes Cluster on the Google Cloud Platform(GCP) using the Google Container Engine (GKE) for Kubernetes.  It is designed to be run via the included Docker container, but it can be run locally if the appropriate tools are installed.  \n",
    "\n",
    "This assumes you have already installed the carme gcp packages and have reviewed the carme-config.  \n",
    "\n",
    "\n",
    "    "
   ]
  },
  {
   "cell_type": "markdown",
   "metadata": {},
   "source": [
    "### Print Available Commands\n",
    "Optionally you can print the configuration and common commands for your desired cluster. You can use this as a reference and copy and paste into the terminal."
   ]
  },
  {
   "cell_type": "code",
   "execution_count": null,
   "metadata": {},
   "outputs": [],
   "source": [
    "!carme run list\n"
   ]
  },
  {
   "cell_type": "markdown",
   "metadata": {},
   "source": [
    "### Web Login\n",
    "\n",
    "In order to use the web login, you need to run the command below and then enter the code in the generated web link.  Careful not to commit this code to github repository. \n",
    "\n",
    "TBD: Need someone to research loging in with service account. The way google works you can download a json file that can be used for authentication.  This is better for eventual automation. \n"
   ]
  },
  {
   "cell_type": "code",
   "execution_count": null,
   "metadata": {},
   "outputs": [],
   "source": [
    "#For Azure: Use this. \n",
    "!carme run login\n"
   ]
  },
  {
   "cell_type": "markdown",
   "metadata": {},
   "source": [
    "### Create Project \n",
    "Google calls them projects.  Azure calles them resource groups. Either way you need one. This useful to track spending and also ensure you delete all resources at the end. \n"
   ]
  },
  {
   "cell_type": "code",
   "execution_count": null,
   "metadata": {},
   "outputs": [],
   "source": [
    "!carme run 'create_project'"
   ]
  },
  {
   "cell_type": "code",
   "execution_count": null,
   "metadata": {},
   "outputs": [],
   "source": [
    "#This will set the project \n",
    "!carme run set_project"
   ]
  },
  {
   "cell_type": "code",
   "execution_count": null,
   "metadata": {},
   "outputs": [],
   "source": [
    "#This will set the zone (Google Only). \n",
    "!carme run set_zone\n"
   ]
  },
  {
   "cell_type": "markdown",
   "metadata": {},
   "source": [
    "### Create the Cluster\n",
    "This will create your Kubernetes Cluster. You have to wait for about 5 minutes before this finishes creating.\n"
   ]
  },
  {
   "cell_type": "code",
   "execution_count": 1,
   "metadata": {},
   "outputs": [
    {
     "name": "stdout",
     "output_type": "stream",
     "text": [
      "carme: [INFO] Running the command: create_cluster\r\n",
      "carme: [INFO] Template: gcloud container clusters create {g_cluster_name} --num-nodes={g_num_nodes} --machine-type={g_machine_type} --zone={g_zone}\r\n",
      "carme: [INFO] Values: gcloud container clusters create techfunsp2018v2 --num-nodes=1 --machine-type=n1-highmem-4 --zone=us-east1-b\r\n"
     ]
    }
   ],
   "source": [
    "!carme run create_cluster --dryrun"
   ]
  },
  {
   "cell_type": "markdown",
   "metadata": {},
   "source": [
    "### Set Appropriate Permissions"
   ]
  },
  {
   "cell_type": "code",
   "execution_count": 2,
   "metadata": {},
   "outputs": [
    {
     "name": "stdout",
     "output_type": "stream",
     "text": [
      "carme: [INFO] Running the command: create_cluster_roll\r\n",
      "carme: [INFO] Template: kubectl create clusterrolebinding cluster-admin-binding --clusterrole=cluster-admin --user={email}\r\n",
      "carme: [INFO] Values: kubectl create clusterrolebinding cluster-admin-binding --clusterrole=cluster-admin --user=jkuruzovich@gmail.com\r\n"
     ]
    }
   ],
   "source": [
    "!carme run create_cluster_roll --dryrun"
   ]
  },
  {
   "cell_type": "markdown",
   "metadata": {},
   "source": [
    "### WAIT FOR A WHILE\n",
    "This can take up to 10 minutes. \n",
    "\n",
    "If you get an error \".kube/config: No such file or directory\" just wait, it is likely still booting up. \n",
    "\n",
    "### Get Credentials for Kubectl\n",
    "We need to add the credentials for Kubectl to work. You need a bit of time for your Kubernetes to launch."
   ]
  },
  {
   "cell_type": "code",
   "execution_count": 3,
   "metadata": {},
   "outputs": [
    {
     "name": "stdout",
     "output_type": "stream",
     "text": [
      "carme: [INFO] Running the command: get_credentials\n",
      "carme: [INFO] Template: gcloud container clusters get-credentials {g_cluster_name}\n",
      "carme: [INFO] Values: gcloud container clusters get-credentials techfunsp2018v2\n",
      "Executing get_credentials:\n",
      " gcloud container clusters get-credentials techfunsp2018v2\n",
      "Fetching cluster endpoint and auth data.\n",
      "kubeconfig entry generated for techfunsp2018v2.\n"
     ]
    }
   ],
   "source": [
    "#gcloud container clusters get-credentials carme\n",
    "!carme run get_credentials"
   ]
  },
  {
   "cell_type": "code",
   "execution_count": 4,
   "metadata": {},
   "outputs": [
    {
     "name": "stdout",
     "output_type": "stream",
     "text": [
      "\u001b[0;32mKubernetes master\u001b[0m is running at \u001b[0;33mhttps://35.229.105.53\u001b[0m\n",
      "\u001b[0;32mGLBCDefaultBackend\u001b[0m is running at \u001b[0;33mhttps://35.229.105.53/api/v1/namespaces/kube-system/services/default-http-backend/proxy\u001b[0m\n",
      "\u001b[0;32mHeapster\u001b[0m is running at \u001b[0;33mhttps://35.229.105.53/api/v1/namespaces/kube-system/services/heapster/proxy\u001b[0m\n",
      "\u001b[0;32mKubeDNS\u001b[0m is running at \u001b[0;33mhttps://35.229.105.53/api/v1/namespaces/kube-system/services/kube-dns/proxy\u001b[0m\n",
      "\u001b[0;32mkubernetes-dashboard\u001b[0m is running at \u001b[0;33mhttps://35.229.105.53/api/v1/namespaces/kube-system/services/kubernetes-dashboard/proxy\u001b[0m\n",
      "\n",
      "To further debug and diagnose cluster problems, use 'kubectl cluster-info dump'.\n"
     ]
    }
   ],
   "source": [
    "#Check to see if we have Kubectl working. \n",
    "!kubectl cluster-info\n"
   ]
  },
  {
   "cell_type": "code",
   "execution_count": 13,
   "metadata": {},
   "outputs": [
    {
     "name": "stdout",
     "output_type": "stream",
     "text": [
      "NAME                                           STATUS    ROLES     AGE       VERSION\r\n",
      "gke-techfunsp2018-default-pool-a0e49821-ps26   Ready     <none>    2m        v1.8.8-gke.0\r\n"
     ]
    }
   ],
   "source": [
    "#Check notes with Kubectl\n",
    "!kubectl get node\n"
   ]
  },
  {
   "cell_type": "markdown",
   "metadata": {},
   "source": [
    "### Helm Installation.  \n",
    "We are going to be utilizing Helm for  installations of a variety of analytics tools.  This command will install Tiller on your cluster.  As they say, \"Happy Helming!\" \n",
    "\n",
    "A critical factor for Helm is that you have the same version running locally and via your machine.  If you run helm version and you have the right version, then you should be fine.\n",
    "\n",
    "```\n",
    "Client: &version.Version{SemVer:\"v2.6.2\", GitCommit:\"be3ae4ea91b2960be98c07e8f73754e67e87963c\", GitTreeState:\"clean\"}\n",
    "Server: &version.Version{SemVer:\"v2.6.2\", GitCommit:\"be3ae4ea91b2960be98c07e8f73754e67e87963c\", GitTreeState:\"clean\"}\n",
    "```\n",
    "\n",
    "To install the appropriate version: \n",
    "\n",
    "```\n",
    "curl https://raw.githubusercontent.com/kubernetes/helm/master/scripts/get > get_helm.sh\n",
    "chmod 700 get_helm.sh\n",
    "RUN get_helm.sh --version v2.6.2\n",
    "\n",
    "```\n"
   ]
  },
  {
   "cell_type": "code",
   "execution_count": 5,
   "metadata": {},
   "outputs": [
    {
     "name": "stdout",
     "output_type": "stream",
     "text": [
      "carme: [INFO] Executing command block install_helm:\n",
      "carme: [INFO] Running the command: install_helm1\n",
      "carme: [INFO] Template: kubectl --namespace kube-system create serviceaccount tiller\n",
      "carme: [INFO] Values: kubectl --namespace kube-system create serviceaccount tiller\n",
      "Executing install_helm1:\n",
      " kubectl --namespace kube-system create serviceaccount tiller\n",
      "serviceaccount \"tiller\" created\n",
      "carme: [INFO] Running the command: install_helm2\n",
      "carme: [INFO] Template: helm init --service-account tiller\n",
      "carme: [INFO] Values: helm init --service-account tiller\n",
      "Executing install_helm2:\n",
      " helm init --service-account tiller\n",
      "$HELM_HOME has been configured at /Users/jasonkuruzovich/.helm.\n",
      "\n",
      "Tiller (the Helm server-side component) has been installed into your Kubernetes Cluster.\n",
      "\n",
      "Please note: by default, Tiller is deployed with an insecure 'allow unauthenticated users' policy.\n",
      "For more information on securing your installation see: https://docs.helm.sh/using_helm/#securing-your-helm-installation\n",
      "Happy Helming!\n",
      "carme: [INFO] Running the command: install_helm3\n",
      "carme: [INFO] Template: helm version\n",
      "carme: [INFO] Values: helm version\n",
      "Executing install_helm3:\n",
      " helm version\n",
      "Client: &version.Version{SemVer:\"v2.8.2\", GitCommit:\"a80231648a1473929271764b920a8e346f6de844\", GitTreeState:\"clean\"}\n",
      "Error: cannot connect to Tiller\n"
     ]
    }
   ],
   "source": [
    "#Verify Versions are equal\n",
    "!carme run install_helm"
   ]
  },
  {
   "cell_type": "code",
   "execution_count": 2,
   "metadata": {},
   "outputs": [
    {
     "name": "stdout",
     "output_type": "stream",
     "text": [
      "Client: &version.Version{SemVer:\"v2.8.2\", GitCommit:\"a80231648a1473929271764b920a8e346f6de844\", GitTreeState:\"clean\"}\n",
      "Server: &version.Version{SemVer:\"v2.8.2\", GitCommit:\"a80231648a1473929271764b920a8e346f6de844\", GitTreeState:\"clean\"}\n"
     ]
    }
   ],
   "source": [
    "!helm version\n"
   ]
  },
  {
   "cell_type": "markdown",
   "metadata": {},
   "source": [
    "### Secure Tiller"
   ]
  },
  {
   "cell_type": "code",
   "execution_count": null,
   "metadata": {},
   "outputs": [],
   "source": [
    "!kubectl --namespace=kube-system patch deployment tiller-deploy --type=json --patch='[{\"op\": \"add\", \"path\": \"/spec/template/spec/containers/0/command\", \"value\": [\"/tiller\", \"--listen=localhost:44134\"]}]'"
   ]
  },
  {
   "cell_type": "markdown",
   "metadata": {},
   "source": [
    "### Enabling Autoscaling (optional)\n",
    "\n",
    "This should launch a pod within your kubernetes cluster that will handle autoscaling of the cluster. Note that this seems to take a while and may even timeout. Consider opening and running in a terminal session. "
   ]
  },
  {
   "cell_type": "code",
   "execution_count": null,
   "metadata": {},
   "outputs": [],
   "source": [
    "#Google only. Currently Not possible with azure\n",
    "!carme run autoscale"
   ]
  },
  {
   "cell_type": "code",
   "execution_count": 1,
   "metadata": {},
   "outputs": [
    {
     "name": "stdout",
     "output_type": "stream",
     "text": [
      "carme: [INFO] Running the command: create_fixedip\n",
      "carme: [INFO] Template: gcloud compute addresses create {g_fixedip_namespace} --region={g_region}\n",
      "carme: [INFO] Values: gcloud compute addresses create jupyterhub-kuberlytics --region=us-east1\n",
      "Executing create_fixedip:\n",
      " gcloud compute addresses create jupyterhub-kuberlytics --region=us-east1\n",
      "\u001b[1;31mERROR:\u001b[0m (gcloud.compute.addresses.create) Could not fetch resource:\n",
      " - The resource 'projects/techfunsp2018/regions/us-east1/addresses/jupyterhub-kuberlytics' already exists\n",
      "\n"
     ]
    }
   ],
   "source": [
    "!carme run create_fixedip"
   ]
  },
  {
   "cell_type": "code",
   "execution_count": 2,
   "metadata": {},
   "outputs": [
    {
     "name": "stdout",
     "output_type": "stream",
     "text": [
      "carme: [INFO] Running the command: describe_fixedip\n",
      "carme: [INFO] Template: gcloud compute addresses describe {g_fixedip_namespace} --region={g_region}\n",
      "carme: [INFO] Values: gcloud compute addresses describe jupyterhub-kuberlytics --region=us-east1\n",
      "Executing describe_fixedip:\n",
      " gcloud compute addresses describe jupyterhub-kuberlytics --region=us-east1\n",
      "address: 35.196.37.108\n",
      "creationTimestamp: '2018-04-18T19:56:15.143-07:00'\n",
      "description: ''\n",
      "id: '5136955220960852896'\n",
      "kind: compute#address\n",
      "name: jupyterhub-kuberlytics\n",
      "region: https://www.googleapis.com/compute/v1/projects/techfunsp2018/regions/us-east1\n",
      "selfLink: https://www.googleapis.com/compute/v1/projects/techfunsp2018/regions/us-east1/addresses/jupyterhub-kuberlytics\n",
      "status: RESERVED\n"
     ]
    }
   ],
   "source": [
    "!carme run describe_fixedip"
   ]
  },
  {
   "cell_type": "code",
   "execution_count": null,
   "metadata": {},
   "outputs": [],
   "source": [
    "!carme run describe_fixedip"
   ]
  },
  {
   "cell_type": "markdown",
   "metadata": {},
   "source": [
    "#### That is it! You now have your own Kubernetes cluster that is ready to go. "
   ]
  },
  {
   "cell_type": "markdown",
   "metadata": {},
   "source": [
    "### Resize a Cluster\n"
   ]
  },
  {
   "cell_type": "code",
   "execution_count": 7,
   "metadata": {},
   "outputs": [
    {
     "name": "stdout",
     "output_type": "stream",
     "text": [
      "carme: [INFO] Running the command: class_size\n",
      "carme: [INFO] Template: gcloud container clusters resize {g_cluster_name} --size={g_num_nodes_class} --quiet\n",
      "carme: [INFO] Values: gcloud container clusters resize techfunsp2018v2 --size=2 --quiet\n",
      "Executing class_size:\n",
      " gcloud container clusters resize techfunsp2018v2 --size=2 --quiet\n",
      "Resizing techfunsp2018v2...done.                                               \n",
      "Updated [https://container.googleapis.com/v1/projects/techfunsp2018/zones/us-east1-b/clusters/techfunsp2018v2].\n"
     ]
    }
   ],
   "source": [
    "#Scale the cluster \n",
    "!carme run class_size"
   ]
  },
  {
   "cell_type": "code",
   "execution_count": 4,
   "metadata": {},
   "outputs": [
    {
     "name": "stdout",
     "output_type": "stream",
     "text": [
      "carme: [INFO] Running the command: stop_cluster\n",
      "carme: [INFO] Template: gcloud container clusters resize {g_cluster_name} --size=0 --quiet\n",
      "carme: [INFO] Values: gcloud container clusters resize techfunsp2018 --size=0 --quiet\n",
      "Executing stop_cluster:\n",
      " gcloud container clusters resize techfunsp2018 --size=0 --quiet\n",
      "\u001b[1;31mERROR:\u001b[0m (gcloud.container.clusters.resize) ResponseError: code=404, message=The resource \"projects/techfunsp2018/zones/us-east1-b/clusters/techfunsp2018\" was not found.\n",
      "No cluster named 'techfunsp2018' in techfunsp2018.\n"
     ]
    }
   ],
   "source": [
    "#Stop the cluster, effectively setting the size to 0.\n",
    "!carme run stop_cluster"
   ]
  },
  {
   "cell_type": "code",
   "execution_count": 8,
   "metadata": {},
   "outputs": [
    {
     "name": "stdout",
     "output_type": "stream",
     "text": [
      "carme: [INFO] Running the command: normal_size\n",
      "carme: [INFO] Template: gcloud container clusters resize {g_cluster_name} --size={g_num_nodes} --quiet\n",
      "carme: [INFO] Values: gcloud container clusters resize techfunsp2018v2 --size=1 --quiet\n",
      "Executing normal_size:\n",
      " gcloud container clusters resize techfunsp2018v2 --size=1 --quiet\n",
      "Resizing techfunsp2018v2...done.                                               \n",
      "Updated [https://container.googleapis.com/v1/projects/techfunsp2018/zones/us-east1-b/clusters/techfunsp2018v2].\n"
     ]
    }
   ],
   "source": [
    "#Set the cluster to the normal size.\n",
    "!carme run normal_size"
   ]
  },
  {
   "cell_type": "code",
   "execution_count": 7,
   "metadata": {},
   "outputs": [
    {
     "name": "stdout",
     "output_type": "stream",
     "text": [
      "Resizing carmecli...done.                                                      \n",
      "Updated [https://container.googleapis.com/v1/projects/techfunsp2018/zones/us-east1-b/clusters/carmecli].\n"
     ]
    }
   ],
   "source": [
    "!gcloud container clusters resize carmecli --size=2 --quiet"
   ]
  },
  {
   "cell_type": "markdown",
   "metadata": {},
   "source": [
    "### Deleting a Kubernetes Cluster\n",
    "\n",
    "This will delete the Kubernetes cluster by deleting the entire project. This will prefent any future charges. "
   ]
  },
  {
   "cell_type": "code",
   "execution_count": null,
   "metadata": {},
   "outputs": [],
   "source": [
    "#Always delete the namespace first. \n",
    "!carme run delete"
   ]
  },
  {
   "cell_type": "code",
   "execution_count": null,
   "metadata": {},
   "outputs": [],
   "source": []
  }
 ],
 "metadata": {
  "anaconda-cloud": {},
  "kernelspec": {
   "display_name": "Python 3",
   "language": "python",
   "name": "python3"
  },
  "language_info": {
   "codemirror_mode": {
    "name": "ipython",
    "version": 3
   },
   "file_extension": ".py",
   "mimetype": "text/x-python",
   "name": "python",
   "nbconvert_exporter": "python",
   "pygments_lexer": "ipython3",
   "version": "3.6.5"
  }
 },
 "nbformat": 4,
 "nbformat_minor": 2
}
