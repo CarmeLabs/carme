{
 "cells": [
  {
   "cell_type": "markdown",
   "metadata": {},
   "source": [
    "## Jupyterhub on Kubernetes\n",
    "\n",
    "This notebook can be used to launch a standard instance of Jupyterhub which includes a proxy server, and an instance of Jupyterhub. \n",
    "\n",
    "This assumes you have a lauchfile in your working directory and have a Kubernetes cluster already loaded. \n",
    "\n"
   ]
  },
  {
   "cell_type": "markdown",
   "metadata": {},
   "source": [
    "### Print Configuration\n",
    "Optionally you can print the configuration and common commands for your desired cluster. You can use this as a reference and copy and paste into the terminal."
   ]
  },
  {
   "cell_type": "code",
   "execution_count": 1,
   "metadata": {},
   "outputs": [
    {
     "name": "stdout",
     "output_type": "stream",
     "text": [
      "carme: [INFO] These commands are currently installed:\r\n",
      "create_service_account: \"gcloud iam service-accounts create {g_service_account_name}\\\r\n",
      "  \\ --display-name {g_service_account_name}\"\r\n",
      "create_key: \"gcloud iam service-accounts keys create {cwd}/gcp/{g_authorization_file}\\\r\n",
      "  \\ --iam-account {g_service_account_name}@{g_project}.iam.gserviceaccount.com\"\r\n",
      "get_policy: \"gcloud iam service-accounts get-iam-policy {g_service_account_name}@{g_project}.iam.gserviceaccount.com\\\r\n",
      "  \\ --format json > {cwd}gcp/policy.json\"\r\n",
      "set_policy: \"gcloud iam service-accounts set-iam-policy {g_service_account_name}@{g_project}.iam.gserviceaccount.com\\\r\n",
      "  \\ {cwd}/gcp/policy.json\"\r\n",
      "login: \"gcloud auth login\"\r\n",
      "login_sa: \"gcloud auth activate-service-account --key-file {cwd}/gcp/{g_authorization_file}\"\r\n",
      "install_helm: [install_helm0, install_helm1, install_helm2, install_helm3]\r\n",
      "install_helm0: \"curl https://raw.githubusercontent.com/kubernetes/helm/master/scripts/get\\\r\n",
      "  \\ | bash\"\r\n",
      "install_helm1: \"kubectl --namespace kube-system create serviceaccount tiller\"\r\n",
      "install_helm2: \"helm init --service-account tiller\"\r\n",
      "install_helm3: \"helm version\"\r\n",
      "#install_helm4: 'kubectl --namespace=kube-system patch deployment tiller-deploy --type=json --patch=''[{\"op\": \"add\", \"path\": \"/spec/template/spec/containers/0/command\", \"value\": [\"/tiller\", \"--listen=localhost:44134\"]}]'' '\r\n",
      "#helm: \"kubectl --namespace kube-system create sa tiller && kubectl create clusterrolebinding tiller --clusterrole cluster-admin --serviceaccount=kube-system:tiller && helm init --service-account tiller\"\r\n",
      "create_project: \"gcloud projects create {g_project} --set-as-default\"\r\n",
      "set_project: \"gcloud config set project {g_project}\"\r\n",
      "set_zone: \"gcloud config set compute/zone {g_zone}\"\r\n",
      "create_cluster: \"gcloud container clusters create {g_cluster_name} --num-nodes={g_num_nodes}\\\r\n",
      "  \\ --machine-type={g_machine_type} --zone={g_zone}\"\r\n",
      "create_cluster_roll: \"kubectl create clusterrolebinding cluster-admin-binding --clusterrole=cluster-admin\\\r\n",
      "  \\ --user={email}\"\r\n",
      "#create_gpu: \"gcloud container clusters create {g_cluster_name} --num-nodes={g_num_nodes} --machine-type={g_machine_type} --zone={g_zone} --cluster-version={g_cluster_version}\"\r\n",
      "get_credentials: \"gcloud container clusters get-credentials {g_cluster_name}\"\r\n",
      "stop: \"gcloud container clusters resize {g_cluster_name} --size=0 --quiet\"\r\n",
      "normal_size: \"gcloud container clusters resize {g_cluster_name} --size={g_num_nodes}\\\r\n",
      "  \\ --quiet\"\r\n",
      "class_size: \"gcloud container clusters resize {g_cluster_name} --size={g_num_nodes_class}\\\r\n",
      "  \\ --quiet\"\r\n",
      "delete: \"gcloud container clusters delete {g_cluster_name} --zone={g_zone} --quiet\"\r\n",
      "autoscale: \"gcloud alpha container clusters update {g_cluster_name} --enable-autoscaling\\\r\n",
      "  \\ --min-nodes={g_num_nodes} --max-nodes={g_max_nodes} --zone={g_zone} --node-pool=default-pool\"\r\n",
      "create_fixedip: \"gcloud compute addresses create {g_fixedip_namespace} --region={g_region}\"\r\n",
      "describe_fixedip: \"gcloud compute addresses describe {g_fixedip_namespace} --region={g_region}\"\r\n",
      "delete_forwarding_rule: \"gcloud compute forwarding-rules delete forwarding_rule --quiet\"\r\n",
      "delete_fixedip: \"gcloud compute addresses delete {g_fixedip_namespace} --region={g_region}\\\r\n",
      "  \\ --quiet\"\r\n",
      "describe_cluster: \"gcloud container clusters describe {g_cluster_name}\"\r\n",
      "rbac: \"kubectl create clusterrolebinding cluster-admin-binding --clusterrole=cluster-admin\\\r\n",
      "  \\ --user={email}\"\r\n"
     ]
    }
   ],
   "source": [
    "!carme run list"
   ]
  },
  {
   "cell_type": "code",
   "execution_count": 26,
   "metadata": {},
   "outputs": [
    {
     "name": "stdout",
     "output_type": "stream",
     "text": [
      "carme: [INFO] Running the command: clone_repo\n",
      "carme: [INFO] Template: helm repo add jupyterhub {jup_helm_repo} && helm repo update\n",
      "carme: [INFO] Values: helm repo add jupyterhub https://jupyterhub.github.io/helm-chart/ && helm repo update\n",
      "Executing clone_repo:\n",
      " helm repo add jupyterhub https://jupyterhub.github.io/helm-chart/ && helm repo update\n",
      "\"jupyterhub\" has been added to your repositories\n",
      "Hang tight while we grab the latest from your chart repositories...\n",
      "...Skip local chart repository\n",
      "...Successfully got an update from the \"jupyterhub\" chart repository\n",
      "...Successfully got an update from the \"stable\" chart repository\n",
      "Update Complete. ⎈ Happy Helming!⎈ \n"
     ]
    }
   ],
   "source": [
    "#Clone the Jupyterhub repo.\n",
    "!carme run clone_repo"
   ]
  },
  {
   "cell_type": "markdown",
   "metadata": {},
   "source": [
    "## Download Helm Repo"
   ]
  },
  {
   "cell_type": "code",
   "execution_count": 27,
   "metadata": {},
   "outputs": [
    {
     "name": "stdout",
     "output_type": "stream",
     "text": [
      "carme: [INFO] Running the command: install_jupyterhub\n",
      "carme: [INFO] Template: helm install jupyterhub/jupyterhub --version={jup_version} --name={jup_releasename} --namespace={jup_namespace} -f {jup_config}\n",
      "carme: [INFO] Values: helm install jupyterhub/jupyterhub --version=v0.6 --name=techfund2018 --namespace=techfund2018 -f /Users/jasonkuruzovich/githubdesktop/0_class/techfund_google/jupyter/jupyterhub/config.yaml\n",
      "Executing install_jupyterhub:\n",
      " helm install jupyterhub/jupyterhub --version=v0.6 --name=techfund2018 --namespace=techfund2018 -f /Users/jasonkuruzovich/githubdesktop/0_class/techfund_google/jupyter/jupyterhub/config.yaml\n",
      "Error: timed out waiting for the condition\n"
     ]
    }
   ],
   "source": [
    "#This will install the jupyterhub instance.\n",
    "!carme run install_jupyterhub\n"
   ]
  },
  {
   "cell_type": "code",
   "execution_count": 30,
   "metadata": {},
   "outputs": [
    {
     "name": "stdout",
     "output_type": "stream",
     "text": [
      "carme: [INFO] Running the command: describe_jupyterhub\n",
      "carme: [INFO] Template: kubectl --namespace={jup_namespace} get pod\n",
      "carme: [INFO] Values: kubectl --namespace=techfund2018v2 get pod\n",
      "Executing describe_jupyterhub:\n",
      " kubectl --namespace=techfund2018v2 get pod\n",
      "NAME                                         READY     STATUS    RESTARTS   AGE\n",
      "hub-55bbd4ffb8-l6vck                         1/1       Running   0          3m\n",
      "pre-pull-techfund2018v2-1-1524111096-z44nq   1/1       Running   0          8m\n",
      "pre-pull-techfund2018v2-1-1524111400-r7cgj   1/1       Running   0          3m\n",
      "proxy-75596487b4-44bcp                       2/2       Running   0          3m\n"
     ]
    }
   ],
   "source": [
    "#This will check on the status of Jupyterhub.\n",
    "!carme run describe_jupyterhub "
   ]
  },
  {
   "cell_type": "code",
   "execution_count": 31,
   "metadata": {},
   "outputs": [
    {
     "name": "stdout",
     "output_type": "stream",
     "text": [
      "carme: [INFO] Running the command: get_ip\n",
      "carme: [INFO] Template: kubectl --namespace={jup_namespace} get svc proxy-public\n",
      "carme: [INFO] Values: kubectl --namespace=techfund2018v2 get svc proxy-public\n",
      "Executing get_ip:\n",
      " kubectl --namespace=techfund2018v2 get svc proxy-public\n",
      "NAME           TYPE           CLUSTER-IP     EXTERNAL-IP     PORT(S)                      AGE\n",
      "proxy-public   LoadBalancer   10.15.253.15   35.190.129.37   80:31988/TCP,443:31091/TCP   3m\n"
     ]
    }
   ],
   "source": [
    "#Get the ip/url. \n",
    "#cf=ku.get_jupyterhub_ip(cf)\n",
    "!carme run get_ip"
   ]
  },
  {
   "cell_type": "markdown",
   "metadata": {},
   "source": [
    "## Update Authorization\n",
    "When just starting out, the default configuration launches with no password.  While there is still a username and login screen.\n",
    "```\n",
    "!carme app jupyter jup_dummy_auth\n",
    "!carme app jupyter jup_google_auth\n",
    "!carme app jupyter jup_github_auth\n",
    "```"
   ]
  },
  {
   "cell_type": "code",
   "execution_count": null,
   "metadata": {},
   "outputs": [],
   "source": [
    "!carme app jupyter jup_dummy_auth\n"
   ]
  },
  {
   "cell_type": "code",
   "execution_count": null,
   "metadata": {},
   "outputs": [],
   "source": [
    "!carme app jupyter jup_admin"
   ]
  },
  {
   "cell_type": "markdown",
   "metadata": {},
   "source": [
    "### Update the Singleuser Container\n",
    "This can allow you to utilize a different container. \n"
   ]
  },
  {
   "cell_type": "code",
   "execution_count": null,
   "metadata": {},
   "outputs": [],
   "source": [
    "!carme app jupyter jup_singleuser"
   ]
  },
  {
   "cell_type": "code",
   "execution_count": null,
   "metadata": {},
   "outputs": [],
   "source": [
    "!carme app jupyter show_config \n"
   ]
  },
  {
   "cell_type": "code",
   "execution_count": 41,
   "metadata": {},
   "outputs": [
    {
     "name": "stdout",
     "output_type": "stream",
     "text": [
      "carme: [INFO] Running the command: upgrade_jupyterhub\n",
      "carme: [INFO] Template: helm upgrade {jup_namespace} jupyterhub/jupyterhub --version={jup_version} -f ../apps/jupyterhub/config.yaml\n",
      "carme: [INFO] Values: helm upgrade techfund2018v2 jupyterhub/jupyterhub --version=v0.6 -f ../apps/jupyterhub/config.yaml\n",
      "Executing upgrade_jupyterhub:\n",
      " helm upgrade techfund2018v2 jupyterhub/jupyterhub --version=v0.6 -f ../apps/jupyterhub/config.yaml\n",
      "Release \"techfund2018v2\" has been upgraded. Happy Helming!\n",
      "LAST DEPLOYED: Sat Apr 21 21:40:50 2018\n",
      "NAMESPACE: techfund2018v2\n",
      "STATUS: DEPLOYED\n",
      "\n",
      "RESOURCES:\n",
      "==> v1beta1/Deployment\n",
      "NAME   DESIRED  CURRENT  UP-TO-DATE  AVAILABLE  AGE\n",
      "hub    1        1        1           0          2d\n",
      "proxy  1        1        1           1          2d\n",
      "\n",
      "==> v1/Secret\n",
      "NAME        TYPE    DATA  AGE\n",
      "hub-secret  Opaque  1     2d\n",
      "\n",
      "==> v1/ConfigMap\n",
      "NAME                DATA  AGE\n",
      "hub-config          31    2d\n",
      "nginx-proxy-config  1     2d\n",
      "\n",
      "==> v1/PersistentVolumeClaim\n",
      "NAME        STATUS  VOLUME                                    CAPACITY  ACCESS MODES  STORAGECLASS  AGE\n",
      "hub-db-dir  Bound   pvc-7f5c1f1d-4388-11e8-99b9-42010a8e01e6  1Gi       RWO           standard      2d\n",
      "\n",
      "==> v1/ServiceAccount\n",
      "NAME   SECRETS  AGE\n",
      "hub    1        2d\n",
      "proxy  1        2d\n",
      "\n",
      "==> v1beta1/ClusterRole\n",
      "NAME                  AGE\n",
      "nginx-techfund2018v2  2d\n",
      "\n",
      "==> v1beta1/ClusterRoleBinding\n",
      "NAME                  AGE\n",
      "nginx-techfund2018v2  2d\n",
      "\n",
      "==> v1beta1/Role\n",
      "NAME       AGE\n",
      "hub        2d\n",
      "kube-lego  2d\n",
      "nginx      2d\n",
      "\n",
      "==> v1beta1/PodDisruptionBudget\n",
      "NAME   MIN AVAILABLE  MAX UNAVAILABLE  ALLOWED DISRUPTIONS  AGE\n",
      "hub    1              N/A              0                    2d\n",
      "proxy  1              N/A              0                    2d\n",
      "\n",
      "==> v1/Pod(related)\n",
      "NAME                  READY  STATUS             RESTARTS  AGE\n",
      "hub-549d95b5c9-6kq54  0/1    ContainerCreating  0         1s\n",
      "hub-676fc8846-7m89k   1/1    Terminating        0         33m\n",
      "proxy-94cb57d8-52pzk  3/3    Running            0         1d\n",
      "\n",
      "==> v1beta1/RoleBinding\n",
      "NAME       AGE\n",
      "hub        2d\n",
      "kube-lego  2d\n",
      "nginx      2d\n",
      "\n",
      "==> v1/Service\n",
      "NAME          TYPE          CLUSTER-IP     EXTERNAL-IP    PORT(S)                     AGE\n",
      "hub           ClusterIP     10.15.253.123  <none>         8081/TCP                    2d\n",
      "proxy-public  LoadBalancer  10.15.253.15   35.190.129.37  80:31988/TCP,443:31091/TCP  2d\n",
      "proxy-api     ClusterIP     10.15.255.150  <none>         8001/TCP                    2d\n",
      "proxy-http    ClusterIP     10.15.243.21   <none>         8000/TCP                    2d\n",
      "\n",
      "==> v1beta1/Ingress\n",
      "NAME                 HOSTS                  ADDRESS        PORTS    AGE\n",
      "jupyterhub-internal  lab.analyticsdojo.com  35.196.141.94  80, 443  1d\n",
      "\n",
      "\n",
      "NOTES:\n",
      "Thank you for installing JupyterHub!\n",
      "\n",
      "Your release is named techfund2018v2 and installed into the namespace techfund2018v2.\n",
      "\n",
      "You can find if the hub and proxy is ready by doing:\n",
      "\n",
      " kubectl --namespace=techfund2018v2 get pod\n",
      "\n",
      "and watching for both those pods to be in status 'Ready'.\n",
      "\n",
      "You can find the public IP of the JupyterHub by doing:\n",
      "\n",
      " kubectl --namespace=techfund2018v2 get svc proxy-public\n",
      "\n",
      "It might take a few minutes for it to appear!\n",
      "\n",
      "Note that this is still an alpha release! If you have questions, feel free to\n",
      "  1. Come chat with us at https://gitter.im/jupyterhub/jupyterhub\n",
      "  2. File issues at https://github.com/jupyterhub/zero-to-jupyterhub-k8s/issues\n",
      "\n"
     ]
    }
   ],
   "source": [
    "#Upgrading Jupyterhub \n",
    "!carme run upgrade_jupyterhub "
   ]
  },
  {
   "cell_type": "code",
   "execution_count": 39,
   "metadata": {},
   "outputs": [
    {
     "name": "stdout",
     "output_type": "stream",
     "text": [
      "Error from server (NotFound): pods \"hub-699cb97d7f-hn46d\" not found\r\n"
     ]
    }
   ],
   "source": [
    "!kubectl delete pod hub-699cb97d7f-hn46d"
   ]
  },
  {
   "cell_type": "code",
   "execution_count": 38,
   "metadata": {},
   "outputs": [
    {
     "name": "stdout",
     "output_type": "stream",
     "text": [
      "NAMESPACE        NAME                                                        READY     STATUS    RESTARTS   AGE\r\n",
      "kube-system      event-exporter-v0.1.7-5c4d9556cf-tcnls                      2/2       Running   0          2d\r\n",
      "kube-system      fluentd-gcp-v2.0.9-r2gfm                                    2/2       Running   0          2d\r\n",
      "kube-system      heapster-v1.4.3-7994889f85-zhlsc                            3/3       Running   0          2d\r\n",
      "kube-system      kube-dns-778977457c-lprkv                                   3/3       Running   0          2d\r\n",
      "kube-system      kube-dns-autoscaler-7db47cb9b7-94jcp                        1/1       Running   0          2d\r\n",
      "kube-system      kube-proxy-gke-techfunsp2018v2-default-pool-bd679e73-hghz   1/1       Running   0          2d\r\n",
      "kube-system      kubernetes-dashboard-768854d6dc-dg9ms                       1/1       Running   3          2d\r\n",
      "kube-system      l7-default-backend-6497bcdb4d-mkr4p                         1/1       Running   0          2d\r\n",
      "kube-system      tiller-deploy-6858bc4786-bbrnf                              1/1       Running   0          2d\r\n",
      "techfund2018v2   hub-699cb97d7f-hn46d                                        1/1       Running   0          7m\r\n",
      "techfund2018v2   jupyter-jkuruzovich                                         1/1       Running   0          50m\r\n",
      "techfund2018v2   pre-pull-techfund2018v2-1-1524111096-z44nq                  1/1       Running   0          2d\r\n",
      "techfund2018v2   pre-pull-techfund2018v2-1-1524111400-r7cgj                  1/1       Running   0          2d\r\n",
      "techfund2018v2   pre-pull-techfund2018v2-4-1524336556-z9hdf                  1/1       Running   0          6h\r\n",
      "techfund2018v2   proxy-94cb57d8-52pzk                                        3/3       Running   0          1d\r\n"
     ]
    }
   ],
   "source": [
    "!kubectl get pods --all-namespaces"
   ]
  },
  {
   "cell_type": "markdown",
   "metadata": {},
   "source": [
    "## Cleanup the Installation\n",
    "This will cleanup the installation, deleting the instance of Jupyterhub."
   ]
  },
  {
   "cell_type": "code",
   "execution_count": 28,
   "metadata": {},
   "outputs": [
    {
     "name": "stdout",
     "output_type": "stream",
     "text": [
      "carme: [INFO] Running the command: delete_jupyterhub\n",
      "carme: [INFO] Template: helm delete {jup_releasename} --purge\n",
      "carme: [INFO] Values: helm delete techfund2018 --purge\n",
      "Executing delete_jupyterhub:\n",
      " helm delete techfund2018 --purge\n",
      "Error: release: \"techfund2018\" not found\n"
     ]
    }
   ],
   "source": [
    "#Delete Jupyterhub with Helm.\n",
    "!carme run delete_jupyterhub"
   ]
  },
  {
   "cell_type": "code",
   "execution_count": 29,
   "metadata": {},
   "outputs": [
    {
     "name": "stdout",
     "output_type": "stream",
     "text": [
      "carme: [INFO] Running the command: delete_namespace\n",
      "carme: [INFO] Template: kubectl delete namespace {jup_namespace}\n",
      "carme: [INFO] Values: kubectl delete namespace techfund2018\n",
      "Executing delete_namespace:\n",
      " kubectl delete namespace techfund2018\n",
      "namespace \"techfund2018\" deleted\n"
     ]
    }
   ],
   "source": [
    "#Delete the namespace\n",
    "!carme run delete_namespace"
   ]
  },
  {
   "cell_type": "code",
   "execution_count": null,
   "metadata": {},
   "outputs": [],
   "source": []
  }
 ],
 "metadata": {
  "anaconda-cloud": {},
  "kernelspec": {
   "display_name": "Python 3",
   "language": "python",
   "name": "python3"
  },
  "language_info": {
   "codemirror_mode": {
    "name": "ipython",
    "version": 3
   },
   "file_extension": ".py",
   "mimetype": "text/x-python",
   "name": "python",
   "nbconvert_exporter": "python",
   "pygments_lexer": "ipython3",
   "version": "3.6.5"
  }
 },
 "nbformat": 4,
 "nbformat_minor": 2
}
